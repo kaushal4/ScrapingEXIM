{
 "cells": [
  {
   "cell_type": "code",
   "execution_count": 1,
   "metadata": {},
   "outputs": [],
   "source": [
    "\n",
    "#### This program scrapes EXIM-Analytics's page and gives our result as a list of all the import values\n",
    "#import all the necessary libraries\n",
    "  \n",
    "import requests\n",
    "from bs4 import BeautifulSoup\n",
    "from selenium import webdriver\n",
    "from selenium.webdriver.common.keys import Keys\n",
    "import time\n",
    "  \n"
   ]
  },
  {
   "cell_type": "code",
   "execution_count": 2,
   "metadata": {},
   "outputs": [
    {
     "name": "stderr",
     "output_type": "stream",
     "text": [
      "C:\\Users\\daman\\AppData\\Local\\Temp/ipykernel_8332/1216111681.py:6: DeprecationWarning: executable_path has been deprecated, please pass in a Service object\n",
      "  driver = webdriver.Chrome('./chromedriver')\n"
     ]
    }
   ],
   "source": [
    "#url of the page we want to scrape\n",
    "url = \"http://www.eximanalytics.dgciskol.gov.in/dgcis/EXIM-Analytics#/home?_g=()\"\n",
    "  \n",
    "# initiating the chrome webdriver. Parameter includes the path of the webdriver.\n",
    "#need this to interact with Chrome\n",
    "driver = webdriver.Chrome('./chromedriver') \n",
    "driver.get(url) \n",
    "  \n",
    "# Arbitrary time set to ensure that the page is loaded\n",
    "time.sleep(5) \n",
    "  \n",
    "html = driver.page_source"
   ]
  },
  {
   "cell_type": "code",
   "execution_count": 3,
   "metadata": {},
   "outputs": [],
   "source": [
    "from selenium.webdriver.common.by import By\n",
    "from selenium.webdriver.support.ui import WebDriverWait\n",
    "from selenium.webdriver.support import expected_conditions as EC"
   ]
  },
  {
   "cell_type": "code",
   "execution_count": 4,
   "metadata": {},
   "outputs": [
    {
     "name": "stderr",
     "output_type": "stream",
     "text": [
      "C:\\Users\\daman\\AppData\\Local\\Temp/ipykernel_14444/3070651837.py:4: DeprecationWarning: find_element_by_* commands are deprecated. Please use find_element() instead\n",
      "  element = driver.find_element_by_css_selector(\"body > div.content > div.application.ng-scope > div > div > div > div.col-xs-12.col-sm-12.col-md-12.col-lg-6.margTp10 > div.col-xs-12.col-sm-12.col-md-12.col-lg-12.whiteBg > div:nth-child(4) > div.col-xs-6.col-sm-6.col-md-5.col-lg-5.greenBg.text-left > div.col-xs-9.col-sm-9.col-md-9.col-lg-9.padZero > h2 > a\");\n"
     ]
    }
   ],
   "source": [
    "#First, click the import button\n",
    "#The selector string in red is extracted from the source code of the page\n",
    "#To see the source code, right click on the page in chrome and click on view page source\n",
    "element = driver.find_element_by_css_selector(\"body > div.content > div.application.ng-scope > div > div > div > div.col-xs-12.col-sm-12.col-md-12.col-lg-6.margTp10 > div.col-xs-12.col-sm-12.col-md-12.col-lg-12.whiteBg > div:nth-child(4) > div.col-xs-6.col-sm-6.col-md-5.col-lg-5.greenBg.text-left > div.col-xs-9.col-sm-9.col-md-9.col-lg-9.padZero > h2 > a\");\n",
    "\n",
    "element.click()\n",
    "\n",
    "time.sleep(5)"
   ]
  },
  {
   "cell_type": "code",
   "execution_count": 53,
   "metadata": {},
   "outputs": [
    {
     "name": "stderr",
     "output_type": "stream",
     "text": [
      "C:\\Users\\daman\\AppData\\Local\\Temp/ipykernel_12960/3882577869.py:1: DeprecationWarning: find_element_by_* commands are deprecated. Please use find_element() instead\n",
      "  element = driver.find_element_by_xpath(\"/html/body/div[2]/div[2]/div/dashboard-grid/ul/li[12]/dashboard-panel/div/visualize/div/div/div/div/div/div[1]/div\");\n"
     ]
    }
   ],
   "source": [
    "#Then, click the year selection option\n",
    "element = driver.find_element_by_xpath(\"/html/body/div[2]/div[2]/div/dashboard-grid/ul/li[12]/dashboard-panel/div/visualize/div/div/div/div/div/div[1]/div\");\n",
    "\n",
    "element.click()\n",
    "\n",
    "time.sleep(5)"
   ]
  },
  {
   "cell_type": "code",
   "execution_count": 54,
   "metadata": {},
   "outputs": [
    {
     "name": "stderr",
     "output_type": "stream",
     "text": [
      "C:\\Users\\daman\\AppData\\Local\\Temp/ipykernel_12960/1891335265.py:1: DeprecationWarning: find_element_by_* commands are deprecated. Please use find_element() instead\n",
      "  element = driver.find_element_by_xpath(\"/html/body/div[2]/div[2]/div/dashboard-grid/ul/li[12]/dashboard-panel/div/visualize/div/div/div/div/div/div[3]/ul/li[8]/a\");\n",
      "C:\\Users\\daman\\AppData\\Local\\Temp/ipykernel_12960/1891335265.py:5: DeprecationWarning: find_element_by_* commands are deprecated. Please use find_element() instead\n",
      "  element = driver.find_element_by_xpath(\"/html/body/div[2]/div[2]/div/dashboard-grid/ul/li[12]/dashboard-panel/div/visualize/div/div/div/div/div/div[3]/ul/li[12]/a\");\n",
      "C:\\Users\\daman\\AppData\\Local\\Temp/ipykernel_12960/1891335265.py:9: DeprecationWarning: find_element_by_* commands are deprecated. Please use find_element() instead\n",
      "  element = driver.find_element_by_xpath(\"/html/body/div[2]/div[2]/div/dashboard-grid/ul/li[12]/dashboard-panel/div/visualize/div/div/div/div/div/div[3]/ul/li[11]/a\");\n"
     ]
    }
   ],
   "source": [
    "#deselect and get the required year\n",
    "element = driver.find_element_by_xpath(\"/html/body/div[2]/div[2]/div/dashboard-grid/ul/li[12]/dashboard-panel/div/visualize/div/div/div/div/div/div[3]/ul/li[8]/a\");\n",
    "\n",
    "element.click()\n",
    "\n",
    "element = driver.find_element_by_xpath(\"/html/body/div[2]/div[2]/div/dashboard-grid/ul/li[12]/dashboard-panel/div/visualize/div/div/div/div/div/div[3]/ul/li[12]/a\");\n",
    "\n",
    "element.click()\n",
    "\n",
    "element = driver.find_element_by_xpath(\"/html/body/div[2]/div[2]/div/dashboard-grid/ul/li[12]/dashboard-panel/div/visualize/div/div/div/div/div/div[3]/ul/li[11]/a\");\n",
    "\n",
    "element.click()\n",
    "\n",
    "time.sleep(5)"
   ]
  },
  {
   "cell_type": "code",
   "execution_count": 55,
   "metadata": {},
   "outputs": [
    {
     "name": "stderr",
     "output_type": "stream",
     "text": [
      "C:\\Users\\daman\\AppData\\Local\\Temp/ipykernel_12960/307971050.py:1: DeprecationWarning: find_element_by_* commands are deprecated. Please use find_element() instead\n",
      "  element = driver.find_element_by_xpath(\"/html/body/div[2]/div[2]/div/dashboard-grid/ul/li[12]/dashboard-panel/div/visualize/div/div/div/div/div/div[3]/div/a/button\");\n"
     ]
    }
   ],
   "source": [
    "\n",
    "element = driver.find_element_by_xpath(\"/html/body/div[2]/div[2]/div/dashboard-grid/ul/li[12]/dashboard-panel/div/visualize/div/div/div/div/div/div[3]/div/a/button\");\n",
    "\n",
    "element.click()\n",
    "\n",
    "time.sleep(20)"
   ]
  },
  {
   "cell_type": "code",
   "execution_count": 8,
   "metadata": {},
   "outputs": [
    {
     "name": "stderr",
     "output_type": "stream",
     "text": [
      "C:\\Users\\daman\\AppData\\Local\\Temp/ipykernel_12960/1422649860.py:1: DeprecationWarning: find_element_by_* commands are deprecated. Please use find_element() instead\n",
      "  element = driver.find_element_by_xpath(\"/html/body/div[2]/div[2]/div/dashboard-grid/ul/li[17]/dashboard-panel/div/visualize/div/div/div/div/div/div[1]/div/div\");\n"
     ]
    }
   ],
   "source": [
    "element = driver.find_element_by_xpath(\"/html/body/div[2]/div[2]/div/dashboard-grid/ul/li[17]/dashboard-panel/div/visualize/div/div/div/div/div/div[1]/div/div\");\n",
    "\n",
    "element.click()\n",
    "\n",
    "time.sleep(5)"
   ]
  },
  {
   "cell_type": "code",
   "execution_count": 4,
   "metadata": {},
   "outputs": [],
   "source": [
    "#import action change to perform hover actions\n",
    "from selenium.webdriver.common.action_chains import ActionChains\n",
    "from selenium.webdriver.common.by import By"
   ]
  },
  {
   "cell_type": "code",
   "execution_count": 5,
   "metadata": {},
   "outputs": [],
   "source": [
    "#pandas to covert the data to csv\n",
    "import pandas as pd\n",
    "import numpy as np"
   ]
  },
  {
   "cell_type": "code",
   "execution_count": 12,
   "metadata": {},
   "outputs": [],
   "source": [
    "#initialize list\n",
    "ls = []"
   ]
  },
  {
   "cell_type": "code",
   "execution_count": 6,
   "metadata": {},
   "outputs": [],
   "source": [
    "def createImportValues (code):\n",
    "    importValue = driver.find_element(By.XPATH,\"/html/body/div[2]/div[2]/div/dashboard-grid/ul/li[24]/dashboard-panel/div/visualize/div/div/div[2]/div/div[1]\").get_attribute(\"innerHTML\").splitlines()[0];\n",
    "    importValue = importValue[importValue.index(\"span>\")+5:]\n",
    "    importValue = importValue[importValue.index(\";\")+1:importValue.index(\"&\",1)]\n",
    "    return ([code,importValue])"
   ]
  },
  {
   "cell_type": "code",
   "execution_count": 7,
   "metadata": {},
   "outputs": [],
   "source": [
    "importValuesCollection = []\n",
    "ls = []\n",
    "item = []\n",
    "item.append(\"4016\") \n",
    "item.append(\"import country\")\n",
    "importValuesCollection.append(createImportValues(\"8536\"))\n",
    "#we start collecting data from 8536, cause that's the first code\n",
    "#For detailed comments on how code is structured, pls go down to the loop section \n",
    "for i in range (0,10):\n",
    "    element = WebDriverWait(driver, 10).until(EC.presence_of_element_located((By.CSS_SELECTOR, \"body > div.content > div.application.ng-scope > div > dashboard-grid > ul > li:nth-child(5) > dashboard-panel > div > visualize > div > div.c3container.c3 > svg > g:nth-child(2) > g.c3-chart > g.c3-event-rects.c3-event-rects-single > rect.c3-event-rect.c3-event-rect-\"+str(i))))\n",
    "    #element = driver.find_element(By.CSS_SELECTOR,\"body > div.content > div.application.ng-scope > div > dashboard-grid > ul > li:nth-child(5) > dashboard-panel > div > visualize > div > div.c3container.c3 > svg > g:nth-child(2) > g.c3-chart > g.c3-event-rects.c3-event-rects-single > rect.c3-event-rect.c3-event-rect-\"+str(i));\n",
    "\n",
    "    action = ActionChains(driver)\n",
    "\n",
    "    ActionChains(driver).move_to_element(element).perform()\n",
    "#^to move to and select country element\n",
    "    item.append(driver.find_element(By.XPATH, \"/html/body/div[2]/div[2]/div/dashboard-grid/ul/li[5]/dashboard-panel/div/visualize/div/div[2]/div/table/tbody/tr[1]/th\").get_attribute(\"innerHTML\").splitlines()[0])\n",
    "    item.append(driver.find_element(By.XPATH,\"/html/body/div[2]/div[2]/div/dashboard-grid/ul/li[5]/dashboard-panel/div/visualize/div/div[2]/div/table/tbody/tr[2]/td[2]\").get_attribute(\"innerHTML\").splitlines()[0])\n",
    "    ls.append(item)\n",
    "    item = [item[0],item[1]]\n",
    "item = [item[0]]\n",
    "item.append(\"import port\")\n",
    "for i in range (0,3):\n",
    "    element = WebDriverWait(driver, 10).until(EC.presence_of_element_located((By.CSS_SELECTOR, \"body > div.content > div.application.ng-scope > div > dashboard-grid > ul > li:nth-child(6) > dashboard-panel > div > visualize > div > div.c3container.c3 > svg > g:nth-child(2) > g.c3-chart > g.c3-event-rects.c3-event-rects-single > rect.c3-event-rect.c3-event-rect-\"+str(i))))\n",
    "    #element = driver.find_element(By.CSS_SELECTOR,\"body > div.content > div.application.ng-scope > div > dashboard-grid > ul > li:nth-child(6) > dashboard-panel > div > visualize > div > div.c3container.c3 > svg > g:nth-child(2) > g.c3-chart > g.c3-event-rects.c3-event-rects-single > rect.c3-event-rect.c3-event-rect-\"+str(i));\n",
    "\n",
    "    action = ActionChains(driver)\n",
    "\n",
    "    ActionChains(driver).move_to_element(element).perform()\n",
    "#^to move from country to port element\n",
    "    item.append(driver.find_element(By.XPATH, \"/html/body/div[2]/div[2]/div/dashboard-grid/ul/li[6]/dashboard-panel/div/visualize/div/div[2]/div/table/tbody/tr[1]/th\").get_attribute(\"innerHTML\").splitlines()[0])\n",
    "    item.append(driver.find_element(By.XPATH,\"/html/body/div[2]/div[2]/div/dashboard-grid/ul/li[6]/dashboard-panel/div/visualize/div/div[2]/div/table/tbody/tr[2]/td[2]\").get_attribute(\"innerHTML\").splitlines()[0])\n",
    "    ls.append(item)\n",
    "    item = [item[0],item[1]]\n",
    "    #^extract info and store in list"
   ]
  },
  {
   "cell_type": "code",
   "execution_count": 8,
   "metadata": {},
   "outputs": [
    {
     "name": "stdout",
     "output_type": "stream",
     "text": [
      "[['8536', '16.82 ']]\n",
      "[['4016', 'import country', ' U S A', '5.35'], ['4016', 'import country', ' GERMANY', '2.53'], ['4016', 'import country', ' JAPAN', '2.22'], ['4016', 'import country', ' CHINA P RP', '1.22'], ['4016', 'import country', ' U K', '1.06'], ['4016', 'import country', ' FRANCE', '0.58'], ['4016', 'import country', ' ITALY', '0.42'], ['4016', 'import country', ' TAIWAN', '0.41'], ['4016', 'import country', ' POLAND', '0.38'], ['4016', 'import country', ' AUSTRIA', '0.34'], ['4016', 'import port', ' KOLKATA SEA', '8.56'], ['4016', 'import port', ' KOLKATA AIR', '7.85'], ['4016', 'import port', ' FALTA EPZ', '0.41']]\n"
     ]
    }
   ],
   "source": [
    "print(importValuesCollection)\n",
    "#Just to see that data is being collected\n",
    "print(ls)"
   ]
  },
  {
   "cell_type": "code",
   "execution_count": null,
   "metadata": {},
   "outputs": [],
   "source": []
  },
  {
   "cell_type": "code",
   "execution_count": 9,
   "metadata": {},
   "outputs": [
    {
     "name": "stdout",
     "output_type": "stream",
     "text": [
      "7318 6 8483 7 8536 8 8482 9 8481 10 8544 11 8421 12 8431 13 8413 14 3926 15 8414 16 8504 17 7326 18 9027 19 8471 20 8517 21 9018 22 8443 23 8501 24 8409 25 7307 26 9993 27 8479 28 8207 29 8419 30 9031 31 8466 32 3901 33 8412 34 4202 35 8543 36 8308 37 8539 38 8523 39 9403 40 8541 41 8528 42 9032 43 4009 44 2208 45 9030 46 8507 47 7204 48 9026 49 9405 50 8708 51 7320 52 3824 53 3403 54 3402 55 3920 56 4821 57 8205 58 8484 59 8473 60 4010 61 8516 62 3907 63 8448 64 7210 65 8301 66 6804 67 4002 68 8538 69 3917 70 8302 71 3923 72 9001 73 8474 74 9606 75 8531 76 8518 77 9025 78 4819 79 4911 80 2915 81 8525 82 8424 83 8455 84 9022 85 9608 86 8418 87 9607 88 7304 89 7315 90 8533 91 8467 92 8512 93 8537 94 3919 95 8208 96 8515 97 8480 98 2836 99 5407 100 8542 101 8452 102 7202 103 7319 104 "
     ]
    }
   ],
   "source": [
    "#loop to cycle through all the options\n",
    "#the reason the loop start from 5 is because the web site's first element starts from 5\n",
    "#the loop starts from 5 is because the website's first element starts from 5. No other reason.\n",
    "for j in range(6,105):\n",
    "    item = []\n",
    "    try:\n",
    "        element = WebDriverWait(driver, 10).until(EC.element_to_be_clickable((By.XPATH,\"/html/body/div[2]/div[2]/div/dashboard-grid/ul/li[17]/dashboard-panel/div/visualize/div/div/div/div/div/div[1]/div\")))\n",
    "    except:\n",
    "        driver.refresh()\n",
    "        time.sleep(2)\n",
    "        element = WebDriverWait(driver, 10).until(EC.element_to_be_clickable((By.XPATH,\"/html/body/div[2]/div[2]/div/dashboard-grid/ul/li[17]/dashboard-panel/div/visualize/div/div/div/div/div/div[1]/div\")))\n",
    "        element.click()\n",
    "        time.sleep(0.5)\n",
    "        element = WebDriverWait(driver, 10).until(EC.element_to_be_clickable((By.XPATH,\"/html/body/div[2]/div[2]/div/dashboard-grid/ul/li[17]/dashboard-panel/div/visualize/div/div/div/div/div/div[1]/div\")))\n",
    "        \n",
    "    element.click()\n",
    "    time.sleep(1.5)\n",
    "    element = WebDriverWait(driver, 10).until(EC.element_to_be_clickable((By.XPATH,\"/html/body/div[2]/div[2]/div/dashboard-grid/ul/li[17]/dashboard-panel/div/visualize/div/div/div/div/div/div[3]/ul/li[\"+str(j-1)+\"]/a\")))\n",
    "    element.click()\n",
    "    time.sleep(0.5)\n",
    "    element = WebDriverWait(driver, 10).until(EC.element_to_be_clickable((By.XPATH,\"/html/body/div[2]/div[2]/div/dashboard-grid/ul/li[17]/dashboard-panel/div/visualize/div/div/div/div/div/div[3]/ul/li[\"+str(j)+\"]/a\")))\n",
    "    element.click()\n",
    "    time.sleep(0.5)\n",
    "    code = str(WebDriverWait(driver, 10).until(EC.element_to_be_clickable((By.XPATH,\"/html/body/div[2]/div[2]/div/dashboard-grid/ul/li[17]/dashboard-panel/div/visualize/div/div/div/div/div/div[3]/ul/li[\"+str(j)+\"]/a\"))).get_attribute(\"innerHTML\").splitlines()[0])[-4:]\n",
    "    item.append(code)\n",
    "    \n",
    "    \n",
    "    time.sleep(0.5)\n",
    "    element = WebDriverWait(driver, 10).until(EC.element_to_be_clickable((By.XPATH,\"/html/body/div[2]/div[2]/div/dashboard-grid/ul/li[17]/dashboard-panel/div/visualize/div/div/div/div/div/div[3]/div/a/button\")))\n",
    "    element.click()\n",
    "    time.sleep(1)\n",
    "    item.append(\"country\")\n",
    "\n",
    "    importValuesCollection.append(createImportValues(code))\n",
    "    \n",
    "\n",
    "    for i in range (0,10):\n",
    "        element = driver.find_element(By.CSS_SELECTOR,\"body > div.content > div.application.ng-scope > div > dashboard-grid > ul > li:nth-child(5) > dashboard-panel > div > visualize > div > div.c3container.c3 > svg > g:nth-child(2) > g.c3-chart > g.c3-event-rects.c3-event-rects-single > rect.c3-event-rect.c3-event-rect-\"+str(i));\n",
    "        if(i==1):\n",
    "            time.sleep(1)\n",
    "        action = ActionChains(driver)\n",
    "\n",
    "        ActionChains(driver).move_to_element(element).perform()\n",
    "        item.append(driver.find_element(By.XPATH, \"/html/body/div[2]/div[2]/div/dashboard-grid/ul/li[5]/dashboard-panel/div/visualize/div/div[2]/div/table/tbody/tr[1]/th\").get_attribute(\"innerHTML\").splitlines()[0])\n",
    "        item.append(driver.find_element(By.XPATH,\"/html/body/div[2]/div[2]/div/dashboard-grid/ul/li[5]/dashboard-panel/div/visualize/div/div[2]/div/table/tbody/tr[2]/td[2]\").get_attribute(\"innerHTML\").splitlines()[0])\n",
    "        ls.append(item)\n",
    "        #Once disclosed, we extract the data (country name & import value) and store it in the list\n",
    "        item = [item[0],item[1]]\n",
    "    item = [item[0]]\n",
    "    item.append(\"import port\")\n",
    "    for i in range (0,3):\n",
    "        try:\n",
    "            element = WebDriverWait(driver, 2).until(EC.presence_of_element_located((By.CSS_SELECTOR,\"body > div.content > div.application.ng-scope > div > dashboard-grid > ul > li:nth-child(6) > dashboard-panel > div > visualize > div > div.c3container.c3 > svg > g:nth-child(2) > g.c3-chart > g.c3-event-rects.c3-event-rects-single > rect.c3-event-rect.c3-event-rect-\"+str(i))));\n",
    "        except:\n",
    "            break\n",
    "    #^when moving from country to port, HS-code remains same, so we store that (item 0), and discard all other items that change\n",
    "    #we use the same logic below to extract port data\n",
    "        action = ActionChains(driver)\n",
    "\n",
    "        ActionChains(driver).move_to_element(element).perform()\n",
    "        try:\n",
    "            item.append(WebDriverWait(driver, 10).until(EC.presence_of_element_located((By.XPATH, \"/html/body/div[2]/div[2]/div/dashboard-grid/ul/li[6]/dashboard-panel/div/visualize/div/div[2]/div/table/tbody/tr[1]/th\"))).get_attribute(\"innerHTML\").splitlines()[0])\n",
    "        except:\n",
    "            continue\n",
    "        item.append(WebDriverWait(driver, 10).until(EC.presence_of_element_located((By.XPATH,\"/html/body/div[2]/div[2]/div/dashboard-grid/ul/li[6]/dashboard-panel/div/visualize/div/div[2]/div/table/tbody/tr[2]/td[2]\"))).get_attribute(\"innerHTML\").splitlines()[0])\n",
    "        ls.append(item)\n",
    "        item = [item[0],item[1]]\n",
    "    print(str(code)+\" \"+str(j), end =\" \")\n",
    "\n",
    "\n"
   ]
  },
  {
   "cell_type": "code",
   "execution_count": 32,
   "metadata": {},
   "outputs": [
    {
     "name": "stdout",
     "output_type": "stream",
     "text": [
      "['8507', 'country', ' CHINA P RP', '2685.42']\n"
     ]
    }
   ],
   "source": [
    "print(ls[-1])"
   ]
  },
  {
   "cell_type": "code",
   "execution_count": 31,
   "metadata": {},
   "outputs": [
    {
     "data": {
      "text/plain": [
       "['8507', '18,807.38 ']"
      ]
     },
     "execution_count": 31,
     "metadata": {},
     "output_type": "execute_result"
    }
   ],
   "source": [
    "importValuesCollection[-1]"
   ]
  },
  {
   "cell_type": "code",
   "execution_count": 33,
   "metadata": {},
   "outputs": [
    {
     "name": "stdout",
     "output_type": "stream",
     "text": [
      "Here\n"
     ]
    }
   ],
   "source": [
    "for i in ls:\n",
    "    if i[0] == \"8507\":\n",
    "        print(\"Here\")\n",
    "        ls.remove(i)"
   ]
  },
  {
   "cell_type": "code",
   "execution_count": 34,
   "metadata": {},
   "outputs": [
    {
     "name": "stdout",
     "output_type": "stream",
     "text": [
      "Here\n"
     ]
    }
   ],
   "source": [
    "for i in importValuesCollection:\n",
    "    if i[0] == \"8507\":\n",
    "        print(\"Here\")\n",
    "        importValuesCollection.remove(i)"
   ]
  },
  {
   "cell_type": "code",
   "execution_count": 10,
   "metadata": {},
   "outputs": [],
   "source": [
    "#save the collected data as csv\n",
    "data = np.array(ls)\n",
    "df = pd.DataFrame(data, columns=['code','type' ,'country','item'])"
   ]
  },
  {
   "cell_type": "code",
   "execution_count": 53,
   "metadata": {},
   "outputs": [],
   "source": [
    "df['year'] = '18-19'"
   ]
  },
  {
   "cell_type": "code",
   "execution_count": 11,
   "metadata": {},
   "outputs": [
    {
     "data": {
      "text/html": [
       "<div>\n",
       "<style scoped>\n",
       "    .dataframe tbody tr th:only-of-type {\n",
       "        vertical-align: middle;\n",
       "    }\n",
       "\n",
       "    .dataframe tbody tr th {\n",
       "        vertical-align: top;\n",
       "    }\n",
       "\n",
       "    .dataframe thead th {\n",
       "        text-align: right;\n",
       "    }\n",
       "</style>\n",
       "<table border=\"1\" class=\"dataframe\">\n",
       "  <thead>\n",
       "    <tr style=\"text-align: right;\">\n",
       "      <th></th>\n",
       "      <th>code</th>\n",
       "      <th>type</th>\n",
       "      <th>country</th>\n",
       "      <th>item</th>\n",
       "    </tr>\n",
       "  </thead>\n",
       "  <tbody>\n",
       "    <tr>\n",
       "      <th>0</th>\n",
       "      <td>8536</td>\n",
       "      <td>import country</td>\n",
       "      <td>CHINA P RP</td>\n",
       "      <td>27.46</td>\n",
       "    </tr>\n",
       "    <tr>\n",
       "      <th>1</th>\n",
       "      <td>8536</td>\n",
       "      <td>import country</td>\n",
       "      <td>U S A</td>\n",
       "      <td>25.30</td>\n",
       "    </tr>\n",
       "    <tr>\n",
       "      <th>2</th>\n",
       "      <td>8536</td>\n",
       "      <td>import country</td>\n",
       "      <td>SINGAPORE</td>\n",
       "      <td>22.54</td>\n",
       "    </tr>\n",
       "    <tr>\n",
       "      <th>3</th>\n",
       "      <td>8536</td>\n",
       "      <td>import country</td>\n",
       "      <td>GERMANY</td>\n",
       "      <td>20.96</td>\n",
       "    </tr>\n",
       "    <tr>\n",
       "      <th>4</th>\n",
       "      <td>8536</td>\n",
       "      <td>import country</td>\n",
       "      <td>FRANCE</td>\n",
       "      <td>12.73</td>\n",
       "    </tr>\n",
       "  </tbody>\n",
       "</table>\n",
       "</div>"
      ],
      "text/plain": [
       "   code            type      country   item\n",
       "0  8536  import country   CHINA P RP  27.46\n",
       "1  8536  import country        U S A  25.30\n",
       "2  8536  import country    SINGAPORE  22.54\n",
       "3  8536  import country      GERMANY  20.96\n",
       "4  8536  import country       FRANCE  12.73"
      ]
     },
     "execution_count": 11,
     "metadata": {},
     "output_type": "execute_result"
    }
   ],
   "source": [
    "df.head()"
   ]
  },
  {
   "cell_type": "code",
   "execution_count": 11,
   "metadata": {},
   "outputs": [],
   "source": [
    "\n",
    "df.to_csv('inMillions.csv')"
   ]
  },
  {
   "cell_type": "code",
   "execution_count": 12,
   "metadata": {},
   "outputs": [],
   "source": [
    "#save the collected data as csv\n",
    "dataImport = np.array(importValuesCollection)\n",
    "df2 = pd.DataFrame(dataImport, columns=['code','values'])"
   ]
  },
  {
   "cell_type": "code",
   "execution_count": 13,
   "metadata": {},
   "outputs": [],
   "source": [
    "df2.to_csv('ImportValuesInMillions.csv');"
   ]
  }
 ],
 "metadata": {
  "interpreter": {
   "hash": "c211805d745922121417a937ace6561c5724d458738e0d0e5fd742e9760b97d1"
  },
  "kernelspec": {
   "display_name": "Python 3.8.6 64-bit (system)",
   "name": "python3"
  },
  "language_info": {
   "codemirror_mode": {
    "name": "ipython",
    "version": 3
   },
   "file_extension": ".py",
   "mimetype": "text/x-python",
   "name": "python",
   "nbconvert_exporter": "python",
   "pygments_lexer": "ipython3",
   "version": "3.8.6"
  },
  "orig_nbformat": 4
 },
 "nbformat": 4,
 "nbformat_minor": 2
}
