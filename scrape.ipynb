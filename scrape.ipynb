{
 "cells": [
  {
   "cell_type": "code",
   "execution_count": 50,
   "metadata": {},
   "outputs": [],
   "source": [
    "\n",
    "#### This program scrapes EXIM-Analytics's page and gives our result as a \n",
    "#### list of all the import values\n",
    "\n",
    "#import all the necessary libraries\n",
    "  \n",
    "import requests\n",
    "from bs4 import BeautifulSoup\n",
    "from selenium import webdriver\n",
    "from selenium.webdriver.common.keys import Keys\n",
    "import time\n",
    "  \n"
   ]
  },
  {
   "cell_type": "code",
   "execution_count": 51,
   "metadata": {},
   "outputs": [
    {
     "name": "stderr",
     "output_type": "stream",
     "text": [
      "C:\\Users\\daman\\AppData\\Local\\Temp/ipykernel_12960/990040290.py:5: DeprecationWarning: executable_path has been deprecated, please pass in a Service object\n",
      "  driver = webdriver.Chrome('./chromedriver')\n"
     ]
    }
   ],
   "source": [
    "#url of the page we want to scrape\n",
    "url = \"http://119.226.26.106/dgcis/EXIM-Analytics#/dashboard/Import-Analysis-%255BItem-Level%255D%3Fop_type=create?_g=()\"\n",
    "  \n",
    "# initiating the webdriver. Parameter includes the path of the webdriver.\n",
    "driver = webdriver.Chrome('./chromedriver') \n",
    "driver.get(url) \n",
    "  \n",
    "# this is just to ensure that the page is loaded\n",
    "time.sleep(5) \n",
    "  \n",
    "html = driver.page_source"
   ]
  },
  {
   "cell_type": "code",
   "execution_count": 52,
   "metadata": {},
   "outputs": [
    {
     "name": "stderr",
     "output_type": "stream",
     "text": [
      "C:\\Users\\daman\\AppData\\Local\\Temp/ipykernel_12960/4046338627.py:1: DeprecationWarning: find_element_by_* commands are deprecated. Please use find_element() instead\n",
      "  element = driver.find_element_by_css_selector(\"body > div.content > div.application.ng-scope > div > div > div > div.col-xs-12.col-sm-12.col-md-12.col-lg-6.margTp10 > div.col-xs-12.col-sm-12.col-md-12.col-lg-12.whiteBg > div:nth-child(4) > div.col-xs-6.col-sm-6.col-md-5.col-lg-5.greenBg.text-left > div.col-xs-9.col-sm-9.col-md-9.col-lg-9.padZero > h2 > a\");\n"
     ]
    }
   ],
   "source": [
    "#click the import button\n",
    "element = driver.find_element_by_css_selector(\"body > div.content > div.application.ng-scope > div > div > div > div.col-xs-12.col-sm-12.col-md-12.col-lg-6.margTp10 > div.col-xs-12.col-sm-12.col-md-12.col-lg-12.whiteBg > div:nth-child(4) > div.col-xs-6.col-sm-6.col-md-5.col-lg-5.greenBg.text-left > div.col-xs-9.col-sm-9.col-md-9.col-lg-9.padZero > h2 > a\");\n",
    "\n",
    "element.click()\n",
    "\n",
    "time.sleep(5)"
   ]
  },
  {
   "cell_type": "code",
   "execution_count": 53,
   "metadata": {},
   "outputs": [
    {
     "name": "stderr",
     "output_type": "stream",
     "text": [
      "C:\\Users\\daman\\AppData\\Local\\Temp/ipykernel_12960/3882577869.py:1: DeprecationWarning: find_element_by_* commands are deprecated. Please use find_element() instead\n",
      "  element = driver.find_element_by_xpath(\"/html/body/div[2]/div[2]/div/dashboard-grid/ul/li[12]/dashboard-panel/div/visualize/div/div/div/div/div/div[1]/div\");\n"
     ]
    }
   ],
   "source": [
    "#click the year selection option\n",
    "element = driver.find_element_by_xpath(\"/html/body/div[2]/div[2]/div/dashboard-grid/ul/li[12]/dashboard-panel/div/visualize/div/div/div/div/div/div[1]/div\");\n",
    "\n",
    "element.click()\n",
    "\n",
    "time.sleep(5)"
   ]
  },
  {
   "cell_type": "code",
   "execution_count": 54,
   "metadata": {},
   "outputs": [
    {
     "name": "stderr",
     "output_type": "stream",
     "text": [
      "C:\\Users\\daman\\AppData\\Local\\Temp/ipykernel_12960/1891335265.py:1: DeprecationWarning: find_element_by_* commands are deprecated. Please use find_element() instead\n",
      "  element = driver.find_element_by_xpath(\"/html/body/div[2]/div[2]/div/dashboard-grid/ul/li[12]/dashboard-panel/div/visualize/div/div/div/div/div/div[3]/ul/li[8]/a\");\n",
      "C:\\Users\\daman\\AppData\\Local\\Temp/ipykernel_12960/1891335265.py:5: DeprecationWarning: find_element_by_* commands are deprecated. Please use find_element() instead\n",
      "  element = driver.find_element_by_xpath(\"/html/body/div[2]/div[2]/div/dashboard-grid/ul/li[12]/dashboard-panel/div/visualize/div/div/div/div/div/div[3]/ul/li[12]/a\");\n",
      "C:\\Users\\daman\\AppData\\Local\\Temp/ipykernel_12960/1891335265.py:9: DeprecationWarning: find_element_by_* commands are deprecated. Please use find_element() instead\n",
      "  element = driver.find_element_by_xpath(\"/html/body/div[2]/div[2]/div/dashboard-grid/ul/li[12]/dashboard-panel/div/visualize/div/div/div/div/div/div[3]/ul/li[11]/a\");\n"
     ]
    }
   ],
   "source": [
    "#deselect and get the required year\n",
    "element = driver.find_element_by_xpath(\"/html/body/div[2]/div[2]/div/dashboard-grid/ul/li[12]/dashboard-panel/div/visualize/div/div/div/div/div/div[3]/ul/li[8]/a\");\n",
    "\n",
    "element.click()\n",
    "\n",
    "element = driver.find_element_by_xpath(\"/html/body/div[2]/div[2]/div/dashboard-grid/ul/li[12]/dashboard-panel/div/visualize/div/div/div/div/div/div[3]/ul/li[12]/a\");\n",
    "\n",
    "element.click()\n",
    "\n",
    "element = driver.find_element_by_xpath(\"/html/body/div[2]/div[2]/div/dashboard-grid/ul/li[12]/dashboard-panel/div/visualize/div/div/div/div/div/div[3]/ul/li[11]/a\");\n",
    "\n",
    "element.click()\n",
    "\n",
    "time.sleep(5)"
   ]
  },
  {
   "cell_type": "code",
   "execution_count": 55,
   "metadata": {},
   "outputs": [
    {
     "name": "stderr",
     "output_type": "stream",
     "text": [
      "C:\\Users\\daman\\AppData\\Local\\Temp/ipykernel_12960/307971050.py:1: DeprecationWarning: find_element_by_* commands are deprecated. Please use find_element() instead\n",
      "  element = driver.find_element_by_xpath(\"/html/body/div[2]/div[2]/div/dashboard-grid/ul/li[12]/dashboard-panel/div/visualize/div/div/div/div/div/div[3]/div/a/button\");\n"
     ]
    }
   ],
   "source": [
    "\n",
    "element = driver.find_element_by_xpath(\"/html/body/div[2]/div[2]/div/dashboard-grid/ul/li[12]/dashboard-panel/div/visualize/div/div/div/div/div/div[3]/div/a/button\");\n",
    "\n",
    "element.click()\n",
    "\n",
    "time.sleep(20)"
   ]
  },
  {
   "cell_type": "code",
   "execution_count": 8,
   "metadata": {},
   "outputs": [
    {
     "name": "stderr",
     "output_type": "stream",
     "text": [
      "C:\\Users\\daman\\AppData\\Local\\Temp/ipykernel_12960/1422649860.py:1: DeprecationWarning: find_element_by_* commands are deprecated. Please use find_element() instead\n",
      "  element = driver.find_element_by_xpath(\"/html/body/div[2]/div[2]/div/dashboard-grid/ul/li[17]/dashboard-panel/div/visualize/div/div/div/div/div/div[1]/div/div\");\n"
     ]
    }
   ],
   "source": [
    "element = driver.find_element_by_xpath(\"/html/body/div[2]/div[2]/div/dashboard-grid/ul/li[17]/dashboard-panel/div/visualize/div/div/div/div/div/div[1]/div/div\");\n",
    "\n",
    "element.click()\n",
    "\n",
    "time.sleep(5)"
   ]
  },
  {
   "cell_type": "code",
   "execution_count": 56,
   "metadata": {},
   "outputs": [],
   "source": [
    "#import action change to perform hover actions\n",
    "from selenium.webdriver.common.action_chains import ActionChains\n",
    "from selenium.webdriver.common.by import By"
   ]
  },
  {
   "cell_type": "code",
   "execution_count": 57,
   "metadata": {},
   "outputs": [],
   "source": [
    "#pandas to covert the data to csv\n",
    "import pandas as pd\n",
    "import numpy as np"
   ]
  },
  {
   "cell_type": "code",
   "execution_count": 80,
   "metadata": {},
   "outputs": [],
   "source": [
    "#initialize list\n",
    "ls = []"
   ]
  },
  {
   "cell_type": "code",
   "execution_count": 67,
   "metadata": {},
   "outputs": [],
   "source": [
    "ls = []\n",
    "item = []\n",
    "item.append(\"8536\")\n",
    "item.append(\"import country\")\n",
    "for i in range (0,10):\n",
    "    element = driver.find_element(By.CSS_SELECTOR,\"body > div.content > div.application.ng-scope > div > dashboard-grid > ul > li:nth-child(5) > dashboard-panel > div > visualize > div > div.c3container.c3 > svg > g:nth-child(2) > g.c3-chart > g.c3-event-rects.c3-event-rects-single > rect.c3-event-rect.c3-event-rect-\"+str(i));\n",
    "\n",
    "    action = ActionChains(driver)\n",
    "\n",
    "    ActionChains(driver).move_to_element(element).perform()\n",
    "\n",
    "    item.append(driver.find_element(By.XPATH, \"/html/body/div[2]/div[2]/div/dashboard-grid/ul/li[5]/dashboard-panel/div/visualize/div/div[2]/div/table/tbody/tr[1]/th\").get_attribute(\"innerHTML\").splitlines()[0])\n",
    "    item.append(driver.find_element(By.XPATH,\"/html/body/div[2]/div[2]/div/dashboard-grid/ul/li[5]/dashboard-panel/div/visualize/div/div[2]/div/table/tbody/tr[2]/td[2]\").get_attribute(\"innerHTML\").splitlines()[0])\n",
    "    ls.append(item)\n",
    "    item = [item[0],item[1]]\n",
    "item = [item[0]]\n",
    "item.append(\"import port\")\n",
    "for i in range (0,10):\n",
    "    element = driver.find_element(By.CSS_SELECTOR,\"body > div.content > div.application.ng-scope > div > dashboard-grid > ul > li:nth-child(6) > dashboard-panel > div > visualize > div > div.c3container.c3 > svg > g:nth-child(2) > g.c3-chart > g.c3-event-rects.c3-event-rects-single > rect.c3-event-rect.c3-event-rect-\"+str(i));\n",
    "\n",
    "    action = ActionChains(driver)\n",
    "\n",
    "    ActionChains(driver).move_to_element(element).perform()\n",
    "\n",
    "    item.append(driver.find_element(By.XPATH, \"/html/body/div[2]/div[2]/div/dashboard-grid/ul/li[6]/dashboard-panel/div/visualize/div/div[2]/div/table/tbody/tr[1]/th\").get_attribute(\"innerHTML\").splitlines()[0])\n",
    "    item.append(driver.find_element(By.XPATH,\"/html/body/div[2]/div[2]/div/dashboard-grid/ul/li[6]/dashboard-panel/div/visualize/div/div[2]/div/table/tbody/tr[2]/td[2]\").get_attribute(\"innerHTML\").splitlines()[0])\n",
    "    ls.append(item)\n",
    "    item = [item[0],item[1]]"
   ]
  },
  {
   "cell_type": "code",
   "execution_count": 68,
   "metadata": {},
   "outputs": [
    {
     "name": "stdout",
     "output_type": "stream",
     "text": [
      "[['8536', 'import country', ' CHINA P RP', '249.19'], ['8536', 'import country', ' GERMANY', '160.93'], ['8536', 'import country', ' KOREA RP', '121.48'], ['8536', 'import country', ' JAPAN', '96.59'], ['8536', 'import country', ' U S A', '87.01'], ['8536', 'import country', ' SINGAPORE', '56.63'], ['8536', 'import country', ' FRANCE', '49.10'], ['8536', 'import country', ' ITALY', '30.85'], ['8536', 'import country', ' U K', '30.68'], ['8536', 'import country', ' THAILAND', '22.48'], ['8536', 'import port', ' MUMBAI AIR', '171.28'], ['8536', 'import port', ' DELHI AIR', '170.34'], ['8536', 'import port', ' BANGALORE AIRPORT', '151.31'], ['8536', 'import port', ' CHENNAI SEA', '131.31'], ['8536', 'import port', ' NHAVA SHEVA SEA', '101.65'], ['8536', 'import port', ' CHENNAI AIR', '65.53'], ['8536', 'import port', ' CFS PATPARGANJ', '31.53'], ['8536', 'import port', ' ICD BANGALORE', '24.98'], ['8536', 'import port', ' HYDERABAD AIRPORT', '19.83'], ['8536', 'import port', ' CFS ALBATROSS/ICD DADRI', '19.72']]\n"
     ]
    }
   ],
   "source": [
    "print(ls)"
   ]
  },
  {
   "cell_type": "code",
   "execution_count": 86,
   "metadata": {},
   "outputs": [],
   "source": [
    "#loop to cycle through all the options\n",
    "for j in range(5,105):\n",
    "    item = []\n",
    "    element = driver.find_element(By.XPATH,\"/html/body/div[2]/div[2]/div/dashboard-grid/ul/li[17]/dashboard-panel/div/visualize/div/div/div/div/div/div[1]/div\")\n",
    "    element.click()\n",
    "    time.sleep(2)\n",
    "    element = driver.find_element(By.XPATH,\"/html/body/div[2]/div[2]/div/dashboard-grid/ul/li[17]/dashboard-panel/div/visualize/div/div/div/div/div/div[3]/ul/li[\"+str(j-1)+\"]/a\")\n",
    "    element.click()\n",
    "    time.sleep(2)\n",
    "    element = driver.find_element(By.XPATH,\"/html/body/div[2]/div[2]/div/dashboard-grid/ul/li[17]/dashboard-panel/div/visualize/div/div/div/div/div/div[3]/ul/li[\"+str(j)+\"]/a\")\n",
    "    element.click()\n",
    "    time.sleep(2)\n",
    "    item.append(str(driver.find_element(By.XPATH,\"/html/body/div[2]/div[2]/div/dashboard-grid/ul/li[17]/dashboard-panel/div/visualize/div/div/div/div/div/div[3]/ul/li[\"+str(j)+\"]/a\").get_attribute(\"innerHTML\").splitlines()[0])[-4:])\n",
    "    element = driver.find_element(By.XPATH,\"/html/body/div[2]/div[2]/div/dashboard-grid/ul/li[17]/dashboard-panel/div/visualize/div/div/div/div/div/div[3]/div/a/button\")\n",
    "    element.click()\n",
    "    time.sleep(2)\n",
    "    item.append(\"country\")\n",
    "    for i in range (0,10):\n",
    "        element = driver.find_element(By.CSS_SELECTOR,\"body > div.content > div.application.ng-scope > div > dashboard-grid > ul > li:nth-child(5) > dashboard-panel > div > visualize > div > div.c3container.c3 > svg > g:nth-child(2) > g.c3-chart > g.c3-event-rects.c3-event-rects-single > rect.c3-event-rect.c3-event-rect-\"+str(i));\n",
    "\n",
    "        action = ActionChains(driver)\n",
    "\n",
    "        ActionChains(driver).move_to_element(element).perform()\n",
    "\n",
    "        item.append(driver.find_element(By.XPATH, \"/html/body/div[2]/div[2]/div/dashboard-grid/ul/li[5]/dashboard-panel/div/visualize/div/div[2]/div/table/tbody/tr[1]/th\").get_attribute(\"innerHTML\").splitlines()[0])\n",
    "        item.append(driver.find_element(By.XPATH,\"/html/body/div[2]/div[2]/div/dashboard-grid/ul/li[5]/dashboard-panel/div/visualize/div/div[2]/div/table/tbody/tr[2]/td[2]\").get_attribute(\"innerHTML\").splitlines()[0])\n",
    "        ls.append(item)\n",
    "        item = [item[0],item[1]]\n",
    "    item = [item[0]]\n",
    "    item.append(\"import port\")\n",
    "    for i in range (0,10):\n",
    "        element = driver.find_element(By.CSS_SELECTOR,\"body > div.content > div.application.ng-scope > div > dashboard-grid > ul > li:nth-child(6) > dashboard-panel > div > visualize > div > div.c3container.c3 > svg > g:nth-child(2) > g.c3-chart > g.c3-event-rects.c3-event-rects-single > rect.c3-event-rect.c3-event-rect-\"+str(i));\n",
    "\n",
    "        action = ActionChains(driver)\n",
    "\n",
    "        ActionChains(driver).move_to_element(element).perform()\n",
    "\n",
    "        item.append(driver.find_element(By.XPATH, \"/html/body/div[2]/div[2]/div/dashboard-grid/ul/li[6]/dashboard-panel/div/visualize/div/div[2]/div/table/tbody/tr[1]/th\").get_attribute(\"innerHTML\").splitlines()[0])\n",
    "        item.append(driver.find_element(By.XPATH,\"/html/body/div[2]/div[2]/div/dashboard-grid/ul/li[6]/dashboard-panel/div/visualize/div/div[2]/div/table/tbody/tr[2]/td[2]\").get_attribute(\"innerHTML\").splitlines()[0])\n",
    "        ls.append(item)\n",
    "        item = [item[0],item[1]]\n",
    "\n",
    "\n"
   ]
  },
  {
   "cell_type": "code",
   "execution_count": 37,
   "metadata": {},
   "outputs": [
    {
     "name": "stdout",
     "output_type": "stream",
     "text": [
      "[['7318', ' CHINA P RP', '126.43'], ['7318', ' JAPAN', '123.79'], ['7318', ' GERMANY', '99.47'], ['7318', ' KOREA RP', '71.39'], ['7318', ' U S A', '45.65'], ['7318', ' U K', '41.75'], ['7318', ' THAILAND', '34.75'], ['7318', ' ITALY', '30.11'], ['7318', ' TAIWAN', '27.65'], ['7318', ' FRANCE', '21.34'], ['7318', ' CHENNAI SEA', '167.69'], ['7318', ' NHAVA SHEVA SEA', '122.13'], ['7318', ' ICD GARHIHARSARU', '69.01'], ['7318', ' BANGALORE AIRPORT', '55.69'], ['7318', ' MUMBAI AIR', '51.11'], ['7318', ' DELHI AIR', '30.80'], ['7318', ' DELHI (ICD)', '28.53'], ['7318', ' CHENNAI AIR', '27.71'], ['7318', ' ICD Irungattukottai', '27.50'], ['7318', ' CFS PATPARGANJ', '21.70'], ['4016', ' GERMANY', '64.99'], ['4016', ' U S A', '64.01'], ['4016', ' JAPAN', '60.82'], ['4016', ' CHINA P RP', '53.02'], ['4016', ' KOREA RP', '36.94'], ['4016', ' ITALY', '28.56'], ['4016', ' THAILAND', '20.83'], ['4016', ' FRANCE', '18.80'], ['4016', ' U K', '18.40'], ['4016', ' SINGAPORE', '18.21'], ['4016', ' NHAVA SHEVA SEA', '85.16'], ['4016', ' CHENNAI SEA', '84.31'], ['4016', ' MUMBAI AIR', '67.62'], ['4016', ' DELHI AIR', '55.04'], ['4016', ' CHENNAI AIR', '31.34'], ['4016', ' BANGALORE AIRPORT', '30.55'], ['4016', ' CFS PATPARGANJ', '16.40'], ['4016', ' DELHI (ICD)', '15.48'], ['4016', ' ICD GARHIHARSARU', '13.65'], ['4016', ' ICD BANGALORE', '11.24'], ['8544', ' CHINA P RP', '297.09'], ['8544', ' KOREA RP', '195.05'], ['8544', ' GERMANY', '73.86'], ['8544', ' U S A', '61.14'], ['8544', ' MALAYSIA', '35.23'], ['8544', ' THAILAND', '28.08'], ['8544', ' JAPAN', '25.87'], ['8544', ' SRI LANKA DSR', '24.12'], ['8544', ' SINGAPORE', '22.10'], ['8544', ' U K', '18.12'], ['8544', ' NHAVA SHEVA SEA', '191.61'], ['8544', ' CHENNAI SEA', '117.78'], ['8544', ' KOLKATA SEA', '100.50'], ['8544', ' DELHI AIR', '64.73'], ['8544', ' MUMBAI AIR', '64.40'], ['8544', ' BANGALORE AIRPORT', '63.27'], ['8544', ' ICD BANGALORE', '44.34'], ['8544', ' DELHI (ICD)', '28.59'], ['8544', ' SIPCT ELE HW HITE SEZ ORAGADAM', '26.10']]\n"
     ]
    }
   ],
   "source": [
    "print(ls)"
   ]
  },
  {
   "cell_type": "code",
   "execution_count": 87,
   "metadata": {},
   "outputs": [],
   "source": [
    "#save the collected data as csv\n",
    "data = np.array(ls)\n",
    "df = pd.DataFrame(data, columns=['code','type' ,'country','item'])\n",
    "df.to_csv('file3.csv')"
   ]
  }
 ],
 "metadata": {
  "interpreter": {
   "hash": "c211805d745922121417a937ace6561c5724d458738e0d0e5fd742e9760b97d1"
  },
  "kernelspec": {
   "display_name": "Python 3.8.6 64-bit (system)",
   "name": "python3"
  },
  "language_info": {
   "codemirror_mode": {
    "name": "ipython",
    "version": 3
   },
   "file_extension": ".py",
   "mimetype": "text/x-python",
   "name": "python",
   "nbconvert_exporter": "python",
   "pygments_lexer": "ipython3",
   "version": "3.8.6"
  },
  "orig_nbformat": 4
 },
 "nbformat": 4,
 "nbformat_minor": 2
}
