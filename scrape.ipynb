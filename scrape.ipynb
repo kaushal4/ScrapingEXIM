{
 "cells": [
  {
   "cell_type": "code",
   "execution_count": 1,
   "metadata": {},
   "outputs": [],
   "source": [
    "\n",
    "#### This program scrapes EXIM-Analytics's page and gives our result as a list of all the import values\n",
    "#import all the necessary libraries\n",
    "  \n",
    "import requests\n",
    "from bs4 import BeautifulSoup\n",
    "from selenium import webdriver\n",
    "from selenium.webdriver.common.keys import Keys\n",
    "import time\n",
    "  \n"
   ]
  },
  {
   "cell_type": "code",
   "execution_count": 2,
   "metadata": {},
   "outputs": [
    {
     "name": "stderr",
     "output_type": "stream",
     "text": [
      "C:\\Users\\daman\\AppData\\Local\\Temp/ipykernel_12248/1855274717.py:5: DeprecationWarning: executable_path has been deprecated, please pass in a Service object\n",
      "  driver = webdriver.Chrome('./chromedriver')\n"
     ]
    }
   ],
   "source": [
    "#url of the page we want to scrape\n",
    "url = \"http://www.eximanalytics.dgciskol.gov.in/dgcis/EXIM-Analytics#/home?_g=()\"\n",
    "  \n",
    "# initiating the chrome webdriver. Parameter includes the path of the webdriver.\n",
    "#need this to interact with Chrome\n",
    "driver = webdriver.Chrome('./chromedriver') \n",
    "driver.get(url) \n",
    "  \n",
    "# Arbitrary time set to ensure that the page is loaded\n",
    "time.sleep(5) \n",
    "  \n",
    "html = driver.page_source"
   ]
  },
  {
   "cell_type": "code",
   "execution_count": 3,
   "metadata": {},
   "outputs": [],
   "source": [
    "from selenium.webdriver.common.by import By\n",
    "from selenium.webdriver.support.ui import WebDriverWait\n",
    "from selenium.webdriver.support import expected_conditions as EC"
   ]
  },
  {
   "cell_type": "code",
   "execution_count": 52,
   "metadata": {},
   "outputs": [
    {
     "name": "stderr",
     "output_type": "stream",
     "text": [
      "C:\\Users\\daman\\AppData\\Local\\Temp/ipykernel_12960/4046338627.py:1: DeprecationWarning: find_element_by_* commands are deprecated. Please use find_element() instead\n",
      "  element = driver.find_element_by_css_selector(\"body > div.content > div.application.ng-scope > div > div > div > div.col-xs-12.col-sm-12.col-md-12.col-lg-6.margTp10 > div.col-xs-12.col-sm-12.col-md-12.col-lg-12.whiteBg > div:nth-child(4) > div.col-xs-6.col-sm-6.col-md-5.col-lg-5.greenBg.text-left > div.col-xs-9.col-sm-9.col-md-9.col-lg-9.padZero > h2 > a\");\n"
     ]
    }
   ],
   "source": [
    "#First, click the import button\n",
    "#The selector string in red is extracted from the source code of the page\n",
    "#To see the source code, right click on the page in chrome and click on view page source\n",
    "element = driver.find_element_by_css_selector(\"body > div.content > div.application.ng-scope > div > div > div > div.col-xs-12.col-sm-12.col-md-12.col-lg-6.margTp10 > div.col-xs-12.col-sm-12.col-md-12.col-lg-12.whiteBg > div:nth-child(4) > div.col-xs-6.col-sm-6.col-md-5.col-lg-5.greenBg.text-left > div.col-xs-9.col-sm-9.col-md-9.col-lg-9.padZero > h2 > a\");\n",
    "\n",
    "element.click()\n",
    "\n",
    "time.sleep(5)"
   ]
  },
  {
   "cell_type": "code",
   "execution_count": 53,
   "metadata": {},
   "outputs": [
    {
     "name": "stderr",
     "output_type": "stream",
     "text": [
      "C:\\Users\\daman\\AppData\\Local\\Temp/ipykernel_12960/3882577869.py:1: DeprecationWarning: find_element_by_* commands are deprecated. Please use find_element() instead\n",
      "  element = driver.find_element_by_xpath(\"/html/body/div[2]/div[2]/div/dashboard-grid/ul/li[12]/dashboard-panel/div/visualize/div/div/div/div/div/div[1]/div\");\n"
     ]
    }
   ],
   "source": [
    "#Then, click the year selection option\n",
    "element = driver.find_element_by_xpath(\"/html/body/div[2]/div[2]/div/dashboard-grid/ul/li[12]/dashboard-panel/div/visualize/div/div/div/div/div/div[1]/div\");\n",
    "\n",
    "element.click()\n",
    "\n",
    "time.sleep(5)"
   ]
  },
  {
   "cell_type": "code",
   "execution_count": 54,
   "metadata": {},
   "outputs": [
    {
     "name": "stderr",
     "output_type": "stream",
     "text": [
      "C:\\Users\\daman\\AppData\\Local\\Temp/ipykernel_12960/1891335265.py:1: DeprecationWarning: find_element_by_* commands are deprecated. Please use find_element() instead\n",
      "  element = driver.find_element_by_xpath(\"/html/body/div[2]/div[2]/div/dashboard-grid/ul/li[12]/dashboard-panel/div/visualize/div/div/div/div/div/div[3]/ul/li[8]/a\");\n",
      "C:\\Users\\daman\\AppData\\Local\\Temp/ipykernel_12960/1891335265.py:5: DeprecationWarning: find_element_by_* commands are deprecated. Please use find_element() instead\n",
      "  element = driver.find_element_by_xpath(\"/html/body/div[2]/div[2]/div/dashboard-grid/ul/li[12]/dashboard-panel/div/visualize/div/div/div/div/div/div[3]/ul/li[12]/a\");\n",
      "C:\\Users\\daman\\AppData\\Local\\Temp/ipykernel_12960/1891335265.py:9: DeprecationWarning: find_element_by_* commands are deprecated. Please use find_element() instead\n",
      "  element = driver.find_element_by_xpath(\"/html/body/div[2]/div[2]/div/dashboard-grid/ul/li[12]/dashboard-panel/div/visualize/div/div/div/div/div/div[3]/ul/li[11]/a\");\n"
     ]
    }
   ],
   "source": [
    "#deselect and get the required year\n",
    "element = driver.find_element_by_xpath(\"/html/body/div[2]/div[2]/div/dashboard-grid/ul/li[12]/dashboard-panel/div/visualize/div/div/div/div/div/div[3]/ul/li[8]/a\");\n",
    "\n",
    "element.click()\n",
    "\n",
    "element = driver.find_element_by_xpath(\"/html/body/div[2]/div[2]/div/dashboard-grid/ul/li[12]/dashboard-panel/div/visualize/div/div/div/div/div/div[3]/ul/li[12]/a\");\n",
    "\n",
    "element.click()\n",
    "\n",
    "element = driver.find_element_by_xpath(\"/html/body/div[2]/div[2]/div/dashboard-grid/ul/li[12]/dashboard-panel/div/visualize/div/div/div/div/div/div[3]/ul/li[11]/a\");\n",
    "\n",
    "element.click()\n",
    "\n",
    "time.sleep(5)"
   ]
  },
  {
   "cell_type": "code",
   "execution_count": 55,
   "metadata": {},
   "outputs": [
    {
     "name": "stderr",
     "output_type": "stream",
     "text": [
      "C:\\Users\\daman\\AppData\\Local\\Temp/ipykernel_12960/307971050.py:1: DeprecationWarning: find_element_by_* commands are deprecated. Please use find_element() instead\n",
      "  element = driver.find_element_by_xpath(\"/html/body/div[2]/div[2]/div/dashboard-grid/ul/li[12]/dashboard-panel/div/visualize/div/div/div/div/div/div[3]/div/a/button\");\n"
     ]
    }
   ],
   "source": [
    "\n",
    "element = driver.find_element_by_xpath(\"/html/body/div[2]/div[2]/div/dashboard-grid/ul/li[12]/dashboard-panel/div/visualize/div/div/div/div/div/div[3]/div/a/button\");\n",
    "\n",
    "element.click()\n",
    "\n",
    "time.sleep(20)"
   ]
  },
  {
   "cell_type": "code",
   "execution_count": 8,
   "metadata": {},
   "outputs": [
    {
     "name": "stderr",
     "output_type": "stream",
     "text": [
      "C:\\Users\\daman\\AppData\\Local\\Temp/ipykernel_12960/1422649860.py:1: DeprecationWarning: find_element_by_* commands are deprecated. Please use find_element() instead\n",
      "  element = driver.find_element_by_xpath(\"/html/body/div[2]/div[2]/div/dashboard-grid/ul/li[17]/dashboard-panel/div/visualize/div/div/div/div/div/div[1]/div/div\");\n"
     ]
    }
   ],
   "source": [
    "element = driver.find_element_by_xpath(\"/html/body/div[2]/div[2]/div/dashboard-grid/ul/li[17]/dashboard-panel/div/visualize/div/div/div/div/div/div[1]/div/div\");\n",
    "\n",
    "element.click()\n",
    "\n",
    "time.sleep(5)"
   ]
  },
  {
   "cell_type": "code",
   "execution_count": 4,
   "metadata": {},
   "outputs": [],
   "source": [
    "#import action change to perform hover actions\n",
    "from selenium.webdriver.common.action_chains import ActionChains\n",
    "from selenium.webdriver.common.by import By"
   ]
  },
  {
   "cell_type": "code",
   "execution_count": 5,
   "metadata": {},
   "outputs": [],
   "source": [
    "#pandas to covert the data to csv\n",
    "import pandas as pd\n",
    "import numpy as np"
   ]
  },
  {
   "cell_type": "code",
   "execution_count": 12,
   "metadata": {},
   "outputs": [],
   "source": [
    "#initialize list\n",
    "ls = []"
   ]
  },
  {
   "cell_type": "code",
   "execution_count": 18,
   "metadata": {},
   "outputs": [],
   "source": [
    "def createImportValues (code):\n",
    "    importValue = driver.find_element(By.XPATH,\"/html/body/div[2]/div[2]/div/dashboard-grid/ul/li[24]/dashboard-panel/div/visualize/div/div/div[2]/div/div[1]\").get_attribute(\"innerHTML\").splitlines()[0];\n",
    "    importValue = importValue[importValue.index(\"span>\")+5:]\n",
    "    importValue = importValue[importValue.index(\";\")+1:importValue.index(\"&\",1)]\n",
    "    return ([code,importValue])"
   ]
  },
  {
   "cell_type": "code",
   "execution_count": 27,
   "metadata": {},
   "outputs": [],
   "source": [
    "importValuesCollection = []\n",
    "ls = []\n",
    "item = []\n",
    "item.append(\"8536\") \n",
    "item.append(\"import country\")\n",
    "importValuesCollection.append(createImportValues(\"8536\"))\n",
    "#we start collecting data from 8536, cause that's the first code\n",
    "#For detailed comments on how code is structured, pls go down to the loop section \n",
    "for i in range (0,10):\n",
    "    element = WebDriverWait(driver, 10).until(EC.presence_of_element_located((By.CSS_SELECTOR, \"body > div.content > div.application.ng-scope > div > dashboard-grid > ul > li:nth-child(5) > dashboard-panel > div > visualize > div > div.c3container.c3 > svg > g:nth-child(2) > g.c3-chart > g.c3-event-rects.c3-event-rects-single > rect.c3-event-rect.c3-event-rect-\"+str(i))))\n",
    "    #element = driver.find_element(By.CSS_SELECTOR,\"body > div.content > div.application.ng-scope > div > dashboard-grid > ul > li:nth-child(5) > dashboard-panel > div > visualize > div > div.c3container.c3 > svg > g:nth-child(2) > g.c3-chart > g.c3-event-rects.c3-event-rects-single > rect.c3-event-rect.c3-event-rect-\"+str(i));\n",
    "\n",
    "    action = ActionChains(driver)\n",
    "\n",
    "    ActionChains(driver).move_to_element(element).perform()\n",
    "#^to move to and select country element\n",
    "    item.append(driver.find_element(By.XPATH, \"/html/body/div[2]/div[2]/div/dashboard-grid/ul/li[5]/dashboard-panel/div/visualize/div/div[2]/div/table/tbody/tr[1]/th\").get_attribute(\"innerHTML\").splitlines()[0])\n",
    "    item.append(driver.find_element(By.XPATH,\"/html/body/div[2]/div[2]/div/dashboard-grid/ul/li[5]/dashboard-panel/div/visualize/div/div[2]/div/table/tbody/tr[2]/td[2]\").get_attribute(\"innerHTML\").splitlines()[0])\n",
    "    ls.append(item)\n",
    "    item = [item[0],item[1]]\n",
    "item = [item[0]]\n",
    "item.append(\"import port\")\n",
    "for i in range (0,10):\n",
    "    element = WebDriverWait(driver, 10).until(EC.presence_of_element_located((By.CSS_SELECTOR, \"body > div.content > div.application.ng-scope > div > dashboard-grid > ul > li:nth-child(6) > dashboard-panel > div > visualize > div > div.c3container.c3 > svg > g:nth-child(2) > g.c3-chart > g.c3-event-rects.c3-event-rects-single > rect.c3-event-rect.c3-event-rect-\"+str(i))))\n",
    "    #element = driver.find_element(By.CSS_SELECTOR,\"body > div.content > div.application.ng-scope > div > dashboard-grid > ul > li:nth-child(6) > dashboard-panel > div > visualize > div > div.c3container.c3 > svg > g:nth-child(2) > g.c3-chart > g.c3-event-rects.c3-event-rects-single > rect.c3-event-rect.c3-event-rect-\"+str(i));\n",
    "\n",
    "    action = ActionChains(driver)\n",
    "\n",
    "    ActionChains(driver).move_to_element(element).perform()\n",
    "#^to move from country to port element\n",
    "    item.append(driver.find_element(By.XPATH, \"/html/body/div[2]/div[2]/div/dashboard-grid/ul/li[6]/dashboard-panel/div/visualize/div/div[2]/div/table/tbody/tr[1]/th\").get_attribute(\"innerHTML\").splitlines()[0])\n",
    "    item.append(driver.find_element(By.XPATH,\"/html/body/div[2]/div[2]/div/dashboard-grid/ul/li[6]/dashboard-panel/div/visualize/div/div[2]/div/table/tbody/tr[2]/td[2]\").get_attribute(\"innerHTML\").splitlines()[0])\n",
    "    ls.append(item)\n",
    "    item = [item[0],item[1]]\n",
    "    #^extract info and store in list"
   ]
  },
  {
   "cell_type": "code",
   "execution_count": 28,
   "metadata": {},
   "outputs": [
    {
     "name": "stdout",
     "output_type": "stream",
     "text": [
      "['8536', '6.45 ']\n",
      "[['8536', 'import country', ' CHINA P RP', '2.81'], ['8536', 'import country', ' GERMANY', '1.96'], ['8536', 'import country', ' KOREA RP', '1.59'], ['8536', 'import country', ' U S A', '1.19'], ['8536', 'import country', ' JAPAN', '0.71'], ['8536', 'import country', ' FRANCE', '0.53'], ['8536', 'import country', ' ITALY', '0.44'], ['8536', 'import country', ' SINGAPORE', '0.39'], ['8536', 'import country', ' U K', '0.28'], ['8536', 'import country', ' OMAN', '0.22'], ['8536', 'import port', ' NHAVA SHEVA SEA', '1.44'], ['8536', 'import port', ' MUMBAI AIR', '1.27'], ['8536', 'import port', ' SIKKA', '1.26'], ['8536', 'import port', ' CHENNAI SEA', '1.23'], ['8536', 'import port', ' DELHI AIR', '1.20'], ['8536', 'import port', ' BANGALORE AIRPORT', '1.05'], ['8536', 'import port', ' SEZ Jamnagar (Reliance)', '0.67'], ['8536', 'import port', ' CHENNAI AIR', '0.48'], ['8536', 'import port', ' MUMBAI SEA', '0.47'], ['8536', 'import port', ' KOLKATA SEA', '0.25']]\n"
     ]
    }
   ],
   "source": [
    "print(importValues)\n",
    "#Just to see that data is being collected\n",
    "print(ls)"
   ]
  },
  {
   "cell_type": "code",
   "execution_count": null,
   "metadata": {},
   "outputs": [],
   "source": []
  },
  {
   "cell_type": "code",
   "execution_count": 42,
   "metadata": {},
   "outputs": [
    {
     "name": "stdout",
     "output_type": "stream",
     "text": [
      "3926 12 8483 13 8708 14 8517 15 8414 16 8481 17 8413 18 8421 19 9018 20 8501 21 8541 22 3923 23 7326 24 9993 25 8443 26 3920 27 8431 28 8533 29 8207 30 8523 31 9403 32 8543 33 9027 34 8302 35 3917 36 8479 37 8409 38 8466 39 9031 40 9032 41 7307 42 3907 43 9405 44 8419 45 8473 46 8518 47 8532 48 4202 49 8539 50 3901 51 3204 52 8528 53 4009 54 3402 55 8542 56 7320 57 8205 58 7204 59 4821 60 9030 61 8538 62 8516 63 3824 64 9026 65 8448 66 3919 67 4911 68 8512 69 8301 70 4010 71 8467 72 8507 73 2933 74 2915 75 4819 76 8412 77 2905 78 8531 79 8505 80 8529 81 8308 82 3506 83 8418 84 3208 85 4002 86 4811 87 8511 88 3921 89 7602 90 4901 91 3403 92 8484 93 7219 94 6804 95 9401 96 8424 97 3904 98 "
     ]
    },
    {
     "ename": "NoSuchElementException",
     "evalue": "Message: no such element: Unable to locate element: {\"method\":\"xpath\",\"selector\":\"/html/body/div[2]/div[2]/div/dashboard-grid/ul/li[5]/dashboard-panel/div/visualize/div/div[2]/div/table/tbody/tr[1]/th\"}\n  (Session info: chrome=96.0.4664.45)\nStacktrace:\nBacktrace:\n\tOrdinal0 [0x003206F3+2492147]\n\tOrdinal0 [0x002B9BD1+2071505]\n\tOrdinal0 [0x001C2478+1057912]\n\tOrdinal0 [0x001EC964+1231204]\n\tOrdinal0 [0x00216B62+1403746]\n\tOrdinal0 [0x002057FA+1333242]\n\tOrdinal0 [0x00214F38+1396536]\n\tOrdinal0 [0x0020568B+1332875]\n\tOrdinal0 [0x001E21D4+1188308]\n\tOrdinal0 [0x001E302F+1191983]\n\tGetHandleVerifier [0x004A67A6+1545030]\n\tGetHandleVerifier [0x0055105C+2243580]\n\tGetHandleVerifier [0x003ABC97+518199]\n\tGetHandleVerifier [0x003AAD80+514336]\n\tOrdinal0 [0x002BED2D+2092333]\n\tOrdinal0 [0x002C2EE8+2109160]\n\tOrdinal0 [0x002C3022+2109474]\n\tOrdinal0 [0x002CCB71+2149233]\n\tBaseThreadInitThunk [0x760DFA29+25]\n\tRtlGetAppContainerNamedObjectPath [0x77137A9E+286]\n\tRtlGetAppContainerNamedObjectPath [0x77137A6E+238]\n\t(No symbol) [0x00000000]\n",
     "output_type": "error",
     "traceback": [
      "\u001b[1;31m---------------------------------------------------------------------------\u001b[0m",
      "\u001b[1;31mNoSuchElementException\u001b[0m                    Traceback (most recent call last)",
      "\u001b[1;32m~\\AppData\\Local\\Temp/ipykernel_12248/2184896884.py\u001b[0m in \u001b[0;36m<module>\u001b[1;34m\u001b[0m\n\u001b[0;32m     39\u001b[0m         \u001b[0mActionChains\u001b[0m\u001b[1;33m(\u001b[0m\u001b[0mdriver\u001b[0m\u001b[1;33m)\u001b[0m\u001b[1;33m.\u001b[0m\u001b[0mmove_to_element\u001b[0m\u001b[1;33m(\u001b[0m\u001b[0melement\u001b[0m\u001b[1;33m)\u001b[0m\u001b[1;33m.\u001b[0m\u001b[0mperform\u001b[0m\u001b[1;33m(\u001b[0m\u001b[1;33m)\u001b[0m\u001b[1;33m\u001b[0m\u001b[1;33m\u001b[0m\u001b[0m\n\u001b[0;32m     40\u001b[0m \u001b[1;33m\u001b[0m\u001b[0m\n\u001b[1;32m---> 41\u001b[1;33m         \u001b[0mitem\u001b[0m\u001b[1;33m.\u001b[0m\u001b[0mappend\u001b[0m\u001b[1;33m(\u001b[0m\u001b[0mdriver\u001b[0m\u001b[1;33m.\u001b[0m\u001b[0mfind_element\u001b[0m\u001b[1;33m(\u001b[0m\u001b[0mBy\u001b[0m\u001b[1;33m.\u001b[0m\u001b[0mXPATH\u001b[0m\u001b[1;33m,\u001b[0m \u001b[1;34m\"/html/body/div[2]/div[2]/div/dashboard-grid/ul/li[5]/dashboard-panel/div/visualize/div/div[2]/div/table/tbody/tr[1]/th\"\u001b[0m\u001b[1;33m)\u001b[0m\u001b[1;33m.\u001b[0m\u001b[0mget_attribute\u001b[0m\u001b[1;33m(\u001b[0m\u001b[1;34m\"innerHTML\"\u001b[0m\u001b[1;33m)\u001b[0m\u001b[1;33m.\u001b[0m\u001b[0msplitlines\u001b[0m\u001b[1;33m(\u001b[0m\u001b[1;33m)\u001b[0m\u001b[1;33m[\u001b[0m\u001b[1;36m0\u001b[0m\u001b[1;33m]\u001b[0m\u001b[1;33m)\u001b[0m\u001b[1;33m\u001b[0m\u001b[1;33m\u001b[0m\u001b[0m\n\u001b[0m\u001b[0;32m     42\u001b[0m         \u001b[0mitem\u001b[0m\u001b[1;33m.\u001b[0m\u001b[0mappend\u001b[0m\u001b[1;33m(\u001b[0m\u001b[0mdriver\u001b[0m\u001b[1;33m.\u001b[0m\u001b[0mfind_element\u001b[0m\u001b[1;33m(\u001b[0m\u001b[0mBy\u001b[0m\u001b[1;33m.\u001b[0m\u001b[0mXPATH\u001b[0m\u001b[1;33m,\u001b[0m\u001b[1;34m\"/html/body/div[2]/div[2]/div/dashboard-grid/ul/li[5]/dashboard-panel/div/visualize/div/div[2]/div/table/tbody/tr[2]/td[2]\"\u001b[0m\u001b[1;33m)\u001b[0m\u001b[1;33m.\u001b[0m\u001b[0mget_attribute\u001b[0m\u001b[1;33m(\u001b[0m\u001b[1;34m\"innerHTML\"\u001b[0m\u001b[1;33m)\u001b[0m\u001b[1;33m.\u001b[0m\u001b[0msplitlines\u001b[0m\u001b[1;33m(\u001b[0m\u001b[1;33m)\u001b[0m\u001b[1;33m[\u001b[0m\u001b[1;36m0\u001b[0m\u001b[1;33m]\u001b[0m\u001b[1;33m)\u001b[0m\u001b[1;33m\u001b[0m\u001b[1;33m\u001b[0m\u001b[0m\n\u001b[0;32m     43\u001b[0m         \u001b[0mls\u001b[0m\u001b[1;33m.\u001b[0m\u001b[0mappend\u001b[0m\u001b[1;33m(\u001b[0m\u001b[0mitem\u001b[0m\u001b[1;33m)\u001b[0m\u001b[1;33m\u001b[0m\u001b[1;33m\u001b[0m\u001b[0m\n",
      "\u001b[1;32mE:\\machine_learning\\enviorments\\scraping\\lib\\site-packages\\selenium\\webdriver\\remote\\webdriver.py\u001b[0m in \u001b[0;36mfind_element\u001b[1;34m(self, by, value)\u001b[0m\n\u001b[0;32m   1236\u001b[0m             \u001b[0mvalue\u001b[0m \u001b[1;33m=\u001b[0m \u001b[1;34m'[name=\"%s\"]'\u001b[0m \u001b[1;33m%\u001b[0m \u001b[0mvalue\u001b[0m\u001b[1;33m\u001b[0m\u001b[1;33m\u001b[0m\u001b[0m\n\u001b[0;32m   1237\u001b[0m \u001b[1;33m\u001b[0m\u001b[0m\n\u001b[1;32m-> 1238\u001b[1;33m         return self.execute(Command.FIND_ELEMENT, {\n\u001b[0m\u001b[0;32m   1239\u001b[0m             \u001b[1;34m'using'\u001b[0m\u001b[1;33m:\u001b[0m \u001b[0mby\u001b[0m\u001b[1;33m,\u001b[0m\u001b[1;33m\u001b[0m\u001b[1;33m\u001b[0m\u001b[0m\n\u001b[0;32m   1240\u001b[0m             'value': value})['value']\n",
      "\u001b[1;32mE:\\machine_learning\\enviorments\\scraping\\lib\\site-packages\\selenium\\webdriver\\remote\\webdriver.py\u001b[0m in \u001b[0;36mexecute\u001b[1;34m(self, driver_command, params)\u001b[0m\n\u001b[0;32m    416\u001b[0m         \u001b[0mresponse\u001b[0m \u001b[1;33m=\u001b[0m \u001b[0mself\u001b[0m\u001b[1;33m.\u001b[0m\u001b[0mcommand_executor\u001b[0m\u001b[1;33m.\u001b[0m\u001b[0mexecute\u001b[0m\u001b[1;33m(\u001b[0m\u001b[0mdriver_command\u001b[0m\u001b[1;33m,\u001b[0m \u001b[0mparams\u001b[0m\u001b[1;33m)\u001b[0m\u001b[1;33m\u001b[0m\u001b[1;33m\u001b[0m\u001b[0m\n\u001b[0;32m    417\u001b[0m         \u001b[1;32mif\u001b[0m \u001b[0mresponse\u001b[0m\u001b[1;33m:\u001b[0m\u001b[1;33m\u001b[0m\u001b[1;33m\u001b[0m\u001b[0m\n\u001b[1;32m--> 418\u001b[1;33m             \u001b[0mself\u001b[0m\u001b[1;33m.\u001b[0m\u001b[0merror_handler\u001b[0m\u001b[1;33m.\u001b[0m\u001b[0mcheck_response\u001b[0m\u001b[1;33m(\u001b[0m\u001b[0mresponse\u001b[0m\u001b[1;33m)\u001b[0m\u001b[1;33m\u001b[0m\u001b[1;33m\u001b[0m\u001b[0m\n\u001b[0m\u001b[0;32m    419\u001b[0m             response['value'] = self._unwrap_value(\n\u001b[0;32m    420\u001b[0m                 response.get('value', None))\n",
      "\u001b[1;32mE:\\machine_learning\\enviorments\\scraping\\lib\\site-packages\\selenium\\webdriver\\remote\\errorhandler.py\u001b[0m in \u001b[0;36mcheck_response\u001b[1;34m(self, response)\u001b[0m\n\u001b[0;32m    241\u001b[0m                 \u001b[0malert_text\u001b[0m \u001b[1;33m=\u001b[0m \u001b[0mvalue\u001b[0m\u001b[1;33m[\u001b[0m\u001b[1;34m'alert'\u001b[0m\u001b[1;33m]\u001b[0m\u001b[1;33m.\u001b[0m\u001b[0mget\u001b[0m\u001b[1;33m(\u001b[0m\u001b[1;34m'text'\u001b[0m\u001b[1;33m)\u001b[0m\u001b[1;33m\u001b[0m\u001b[1;33m\u001b[0m\u001b[0m\n\u001b[0;32m    242\u001b[0m             \u001b[1;32mraise\u001b[0m \u001b[0mexception_class\u001b[0m\u001b[1;33m(\u001b[0m\u001b[0mmessage\u001b[0m\u001b[1;33m,\u001b[0m \u001b[0mscreen\u001b[0m\u001b[1;33m,\u001b[0m \u001b[0mstacktrace\u001b[0m\u001b[1;33m,\u001b[0m \u001b[0malert_text\u001b[0m\u001b[1;33m)\u001b[0m  \u001b[1;31m# type: ignore[call-arg]  # mypy is not smart enough here\u001b[0m\u001b[1;33m\u001b[0m\u001b[1;33m\u001b[0m\u001b[0m\n\u001b[1;32m--> 243\u001b[1;33m         \u001b[1;32mraise\u001b[0m \u001b[0mexception_class\u001b[0m\u001b[1;33m(\u001b[0m\u001b[0mmessage\u001b[0m\u001b[1;33m,\u001b[0m \u001b[0mscreen\u001b[0m\u001b[1;33m,\u001b[0m \u001b[0mstacktrace\u001b[0m\u001b[1;33m)\u001b[0m\u001b[1;33m\u001b[0m\u001b[1;33m\u001b[0m\u001b[0m\n\u001b[0m\u001b[0;32m    244\u001b[0m \u001b[1;33m\u001b[0m\u001b[0m\n\u001b[0;32m    245\u001b[0m     \u001b[1;32mdef\u001b[0m \u001b[0m_value_or_default\u001b[0m\u001b[1;33m(\u001b[0m\u001b[0mself\u001b[0m\u001b[1;33m,\u001b[0m \u001b[0mobj\u001b[0m\u001b[1;33m:\u001b[0m \u001b[0mMapping\u001b[0m\u001b[1;33m[\u001b[0m\u001b[0m_KT\u001b[0m\u001b[1;33m,\u001b[0m \u001b[0m_VT\u001b[0m\u001b[1;33m]\u001b[0m\u001b[1;33m,\u001b[0m \u001b[0mkey\u001b[0m\u001b[1;33m:\u001b[0m \u001b[0m_KT\u001b[0m\u001b[1;33m,\u001b[0m \u001b[0mdefault\u001b[0m\u001b[1;33m:\u001b[0m \u001b[0m_VT\u001b[0m\u001b[1;33m)\u001b[0m \u001b[1;33m->\u001b[0m \u001b[0m_VT\u001b[0m\u001b[1;33m:\u001b[0m\u001b[1;33m\u001b[0m\u001b[1;33m\u001b[0m\u001b[0m\n",
      "\u001b[1;31mNoSuchElementException\u001b[0m: Message: no such element: Unable to locate element: {\"method\":\"xpath\",\"selector\":\"/html/body/div[2]/div[2]/div/dashboard-grid/ul/li[5]/dashboard-panel/div/visualize/div/div[2]/div/table/tbody/tr[1]/th\"}\n  (Session info: chrome=96.0.4664.45)\nStacktrace:\nBacktrace:\n\tOrdinal0 [0x003206F3+2492147]\n\tOrdinal0 [0x002B9BD1+2071505]\n\tOrdinal0 [0x001C2478+1057912]\n\tOrdinal0 [0x001EC964+1231204]\n\tOrdinal0 [0x00216B62+1403746]\n\tOrdinal0 [0x002057FA+1333242]\n\tOrdinal0 [0x00214F38+1396536]\n\tOrdinal0 [0x0020568B+1332875]\n\tOrdinal0 [0x001E21D4+1188308]\n\tOrdinal0 [0x001E302F+1191983]\n\tGetHandleVerifier [0x004A67A6+1545030]\n\tGetHandleVerifier [0x0055105C+2243580]\n\tGetHandleVerifier [0x003ABC97+518199]\n\tGetHandleVerifier [0x003AAD80+514336]\n\tOrdinal0 [0x002BED2D+2092333]\n\tOrdinal0 [0x002C2EE8+2109160]\n\tOrdinal0 [0x002C3022+2109474]\n\tOrdinal0 [0x002CCB71+2149233]\n\tBaseThreadInitThunk [0x760DFA29+25]\n\tRtlGetAppContainerNamedObjectPath [0x77137A9E+286]\n\tRtlGetAppContainerNamedObjectPath [0x77137A6E+238]\n\t(No symbol) [0x00000000]\n"
     ]
    }
   ],
   "source": [
    "#loop to cycle through all the options\n",
    "#the reason the loop start from 5 is because the web site's first element starts from 5\n",
    "for j in range(99,105):\n",
    "#the loop starts from 5 is because the website's first element starts from 5. No other reason.\n",
    "for j in range(5,105):\n",
    "    item = []\n",
    "    try:\n",
    "        element = WebDriverWait(driver, 10).until(EC.element_to_be_clickable((By.XPATH,\"/html/body/div[2]/div[2]/div/dashboard-grid/ul/li[17]/dashboard-panel/div/visualize/div/div/div/div/div/div[1]/div\")))\n",
    "    except:\n",
    "        driver.refresh()\n",
    "        time.sleep(2)\n",
    "        element = WebDriverWait(driver, 10).until(EC.element_to_be_clickable((By.XPATH,\"/html/body/div[2]/div[2]/div/dashboard-grid/ul/li[17]/dashboard-panel/div/visualize/div/div/div/div/div/div[1]/div\")))\n",
    "        element.click()\n",
    "        time.sleep(0.5)\n",
    "        element = WebDriverWait(driver, 10).until(EC.element_to_be_clickable((By.XPATH,\"/html/body/div[2]/div[2]/div/dashboard-grid/ul/li[17]/dashboard-panel/div/visualize/div/div/div/div/div/div[1]/div\")))\n",
    "        \n",
    "    element.click()\n",
    "    time.sleep(0.5)\n",
    "    element = WebDriverWait(driver, 10).until(EC.element_to_be_clickable((By.XPATH,\"/html/body/div[2]/div[2]/div/dashboard-grid/ul/li[17]/dashboard-panel/div/visualize/div/div/div/div/div/div[3]/ul/li[\"+str(j-1)+\"]/a\")))\n",
    "    element.click()\n",
    "    time.sleep(0.5)\n",
    "    element = WebDriverWait(driver, 10).until(EC.element_to_be_clickable((By.XPATH,\"/html/body/div[2]/div[2]/div/dashboard-grid/ul/li[17]/dashboard-panel/div/visualize/div/div/div/div/div/div[3]/ul/li[\"+str(j)+\"]/a\")))\n",
    "    element.click()\n",
    "    time.sleep(0.5)\n",
    "    code = str(WebDriverWait(driver, 10).until(EC.element_to_be_clickable((By.XPATH,\"/html/body/div[2]/div[2]/div/dashboard-grid/ul/li[17]/dashboard-panel/div/visualize/div/div/div/div/div/div[3]/ul/li[\"+str(j)+\"]/a\"))).get_attribute(\"innerHTML\").splitlines()[0])[-4:]\n",
    "    item.append(code)\n",
    "    \n",
    "    \n",
    "    time.sleep(0.5)\n",
    "    element = WebDriverWait(driver, 10).until(EC.element_to_be_clickable((By.XPATH,\"/html/body/div[2]/div[2]/div/dashboard-grid/ul/li[17]/dashboard-panel/div/visualize/div/div/div/div/div/div[3]/div/a/button\")))\n",
    "    element.click()\n",
    "    time.sleep(1)\n",
    "    item.append(\"country\")\n",
    "\n",
    "    importValuesCollection.append(createImportValues(code))\n",
    "    \n",
    "    time.sleep(2)\n",
    "    #^This is to click on the 4 digit HS-code button on top-right of page. We click\n",
    "    #then we wait 2 seconds for it to load \n",
    "    element = driver.find_element(By.XPATH,\"/html/body/div[2]/div[2]/div/dashboard-grid/ul/li[17]/dashboard-panel/div/visualize/div/div/div/div/div/div[3]/ul/li[\"+str(j-1)+\"]/a\")\n",
    "    element.click()\n",
    "    time.sleep(2)\n",
    "    #^Here, we de-select J-1th element (e.g.,9th HS code)\n",
    "    element = driver.find_element(By.XPATH,\"/html/body/div[2]/div[2]/div/dashboard-grid/ul/li[17]/dashboard-panel/div/visualize/div/div/div/div/div/div[3]/ul/li[\"+str(j)+\"]/a\")\n",
    "    element.click()\n",
    "    time.sleep(2)\n",
    "    #^then here, we select the J-th element (e.g., 10th HS code)\n",
    "    item.append(str(driver.find_element(By.XPATH,\"/html/body/div[2]/div[2]/div/dashboard-grid/ul/li[17]/dashboard-panel/div/visualize/div/div/div/div/div/div[3]/ul/li[\"+str(j)+\"]/a\").get_attribute(\"innerHTML\").splitlines()[0])[-4:])\n",
    "    #^this extracts the HS-code to store in list\n",
    "    element = driver.find_element(By.XPATH,\"/html/body/div[2]/div[2]/div/dashboard-grid/ul/li[17]/dashboard-panel/div/visualize/div/div/div/div/div/div[3]/div/a/button\")\n",
    "    element.click()\n",
    "    time.sleep(2)\n",
    "    #^this is to click on the \"close\" button\n",
    "    item.append(\"country\") #first, we extract country data, so we append country data into a bag\n",
    "    for i in range (0,10):\n",
    "        element = driver.find_element(By.CSS_SELECTOR,\"body > div.content > div.application.ng-scope > div > dashboard-grid > ul > li:nth-child(5) > dashboard-panel > div > visualize > div > div.c3container.c3 > svg > g:nth-child(2) > g.c3-chart > g.c3-event-rects.c3-event-rects-single > rect.c3-event-rect.c3-event-rect-\"+str(i));\n",
    "        if(i==1):\n",
    "            time.sleep(1)\n",
    "        action = ActionChains(driver)\n",
    "\n",
    "        ActionChains(driver).move_to_element(element).perform()\n",
    "#^this is boilerplate for Selenium. Used to scroll down and move from one element to another. Here, we move down to \"country\"\n",
    "#Once we hover over country element, import values are disclosed \n",
    "        item.append(driver.find_element(By.XPATH, \"/html/body/div[2]/div[2]/div/dashboard-grid/ul/li[5]/dashboard-panel/div/visualize/div/div[2]/div/table/tbody/tr[1]/th\").get_attribute(\"innerHTML\").splitlines()[0])\n",
    "        item.append(driver.find_element(By.XPATH,\"/html/body/div[2]/div[2]/div/dashboard-grid/ul/li[5]/dashboard-panel/div/visualize/div/div[2]/div/table/tbody/tr[2]/td[2]\").get_attribute(\"innerHTML\").splitlines()[0])\n",
    "        ls.append(item)\n",
    "        #Once disclosed, we extract the data (country name & import value) and store it in the list\n",
    "        item = [item[0],item[1]]\n",
    "    item = [item[0]]\n",
    "    item.append(\"import port\")\n",
    "    for i in range (0,10):\n",
    "        element = WebDriverWait(driver, 10).until(EC.presence_of_element_located((By.CSS_SELECTOR,\"body > div.content > div.application.ng-scope > div > dashboard-grid > ul > li:nth-child(6) > dashboard-panel > div > visualize > div > div.c3container.c3 > svg > g:nth-child(2) > g.c3-chart > g.c3-event-rects.c3-event-rects-single > rect.c3-event-rect.c3-event-rect-\"+str(i))));\n",
    "    #^when moving from country to port, HS-code remains same, so we store that (item 0), and discard all other items that change\n",
    "    #we use the same logic below to extract port data\n",
    "    item.append(\"import port\") \n",
    "    for i in range (0,10):  \n",
    "        element = driver.find_element(By.CSS_SELECTOR,\"body > div.content > div.application.ng-scope > div > dashboard-grid > ul > li:nth-child(6) > dashboard-panel > div > visualize > div > div.c3container.c3 > svg > g:nth-child(2) > g.c3-chart > g.c3-event-rects.c3-event-rects-single > rect.c3-event-rect.c3-event-rect-\"+str(i));\n",
    "\n",
    "        action = ActionChains(driver)\n",
    "\n",
    "        ActionChains(driver).move_to_element(element).perform()\n",
    "\n",
    "        item.append(WebDriverWait(driver, 10).until(EC.presence_of_element_located((By.XPATH, \"/html/body/div[2]/div[2]/div/dashboard-grid/ul/li[6]/dashboard-panel/div/visualize/div/div[2]/div/table/tbody/tr[1]/th\"))).get_attribute(\"innerHTML\").splitlines()[0])\n",
    "        item.append(WebDriverWait(driver, 10).until(EC.presence_of_element_located((By.XPATH,\"/html/body/div[2]/div[2]/div/dashboard-grid/ul/li[6]/dashboard-panel/div/visualize/div/div[2]/div/table/tbody/tr[2]/td[2]\"))).get_attribute(\"innerHTML\").splitlines()[0])\n",
    "        ls.append(item)\n",
    "        item = [item[0],item[1]]\n",
    "    print(str(code)+\" \"+str(j), end =\" \")\n",
    "\n",
    "\n"
   ]
  },
  {
   "cell_type": "code",
   "execution_count": 54,
   "metadata": {},
   "outputs": [
    {
     "name": "stdout",
     "output_type": "stream",
     "text": [
      "['3904', 'import port', ' MUMBAI AIR', '0.24']\n"
     ]
    }
   ],
   "source": [
    "print(ls[-1])"
   ]
  },
  {
   "cell_type": "code",
   "execution_count": 51,
   "metadata": {},
   "outputs": [
    {
     "data": {
      "text/plain": [
       "['3904', '15.9 ']"
      ]
     },
     "execution_count": 51,
     "metadata": {},
     "output_type": "execute_result"
    }
   ],
   "source": [
    "importValuesCollection[-1]"
   ]
  },
  {
   "cell_type": "code",
   "execution_count": 53,
   "metadata": {},
   "outputs": [
    {
     "name": "stdout",
     "output_type": "stream",
     "text": [
      "Here\n"
     ]
    }
   ],
   "source": [
    "for i in ls:\n",
    "    if i[0] == \"3215\":\n",
    "        print(\"Here\")\n",
    "        ls.remove(i)"
   ]
  },
  {
   "cell_type": "code",
   "execution_count": 50,
   "metadata": {},
   "outputs": [
    {
     "name": "stdout",
     "output_type": "stream",
     "text": [
      "Here\n"
     ]
    }
   ],
   "source": [
    "for i in importValuesCollection:\n",
    "    if i[0] == \"3215\":\n",
    "        print(\"Here\")\n",
    "        importValuesCollection.remove(i)"
   ]
  },
  {
   "cell_type": "code",
   "execution_count": 52,
   "metadata": {},
   "outputs": [],
   "source": [
    "#save the collected data as csv\n",
    "data = np.array(ls)\n",
    "df = pd.DataFrame(data, columns=['code','type' ,'country','item'])"
   ]
  },
  {
   "cell_type": "code",
   "execution_count": 53,
   "metadata": {},
   "outputs": [],
   "source": [
    "df['year'] = '18-19'"
   ]
  },
  {
   "cell_type": "code",
   "execution_count": 15,
   "metadata": {},
   "outputs": [
    {
     "data": {
      "text/html": [
       "<div>\n",
       "<style scoped>\n",
       "    .dataframe tbody tr th:only-of-type {\n",
       "        vertical-align: middle;\n",
       "    }\n",
       "\n",
       "    .dataframe tbody tr th {\n",
       "        vertical-align: top;\n",
       "    }\n",
       "\n",
       "    .dataframe thead th {\n",
       "        text-align: right;\n",
       "    }\n",
       "</style>\n",
       "<table border=\"1\" class=\"dataframe\">\n",
       "  <thead>\n",
       "    <tr style=\"text-align: right;\">\n",
       "      <th></th>\n",
       "      <th>code</th>\n",
       "      <th>type</th>\n",
       "      <th>country</th>\n",
       "      <th>item</th>\n",
       "      <th>year</th>\n",
       "    </tr>\n",
       "  </thead>\n",
       "  <tbody>\n",
       "    <tr>\n",
       "      <th>0</th>\n",
       "      <td>8536</td>\n",
       "      <td>import country</td>\n",
       "      <td>CHINA P RP</td>\n",
       "      <td>346.48</td>\n",
       "      <td>29-20</td>\n",
       "    </tr>\n",
       "    <tr>\n",
       "      <th>1</th>\n",
       "      <td>8536</td>\n",
       "      <td>import country</td>\n",
       "      <td>GERMANY</td>\n",
       "      <td>187.77</td>\n",
       "      <td>29-20</td>\n",
       "    </tr>\n",
       "    <tr>\n",
       "      <th>2</th>\n",
       "      <td>8536</td>\n",
       "      <td>import country</td>\n",
       "      <td>KOREA RP</td>\n",
       "      <td>149.46</td>\n",
       "      <td>29-20</td>\n",
       "    </tr>\n",
       "    <tr>\n",
       "      <th>3</th>\n",
       "      <td>8536</td>\n",
       "      <td>import country</td>\n",
       "      <td>SINGAPORE</td>\n",
       "      <td>145.59</td>\n",
       "      <td>29-20</td>\n",
       "    </tr>\n",
       "    <tr>\n",
       "      <th>4</th>\n",
       "      <td>8536</td>\n",
       "      <td>import country</td>\n",
       "      <td>U S A</td>\n",
       "      <td>119.53</td>\n",
       "      <td>29-20</td>\n",
       "    </tr>\n",
       "  </tbody>\n",
       "</table>\n",
       "</div>"
      ],
      "text/plain": [
       "   code            type      country    item   year\n",
       "0  8536  import country   CHINA P RP  346.48  29-20\n",
       "1  8536  import country      GERMANY  187.77  29-20\n",
       "2  8536  import country     KOREA RP  149.46  29-20\n",
       "3  8536  import country    SINGAPORE  145.59  29-20\n",
       "4  8536  import country        U S A  119.53  29-20"
      ]
     },
     "execution_count": 15,
     "metadata": {},
     "output_type": "execute_result"
    }
   ],
   "source": [
    "df.head()"
   ]
  },
  {
   "cell_type": "code",
   "execution_count": 54,
   "metadata": {},
   "outputs": [],
   "source": [
    "\n",
    "df.to_csv('inMillions.csv')"
   ]
  }
 ],
 "metadata": {
  "interpreter": {
   "hash": "c211805d745922121417a937ace6561c5724d458738e0d0e5fd742e9760b97d1"
  },
  "kernelspec": {
   "display_name": "Python 3.8.6 64-bit (system)",
   "name": "python3"
  },
  "language_info": {
   "codemirror_mode": {
    "name": "ipython",
    "version": 3
   },
   "file_extension": ".py",
   "mimetype": "text/x-python",
   "name": "python",
   "nbconvert_exporter": "python",
   "pygments_lexer": "ipython3",
   "version": "3.8.6"
  },
  "orig_nbformat": 4
 },
 "nbformat": 4,
 "nbformat_minor": 2
}
